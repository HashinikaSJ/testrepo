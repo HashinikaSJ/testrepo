{
 "cells": [
  {
   "cell_type": "markdown",
   "metadata": {},
   "source": [
    "<center>\n",
    "    <img src=\"https://s3-api.us-geo.objectstorage.softlayer.net/cf-courses-data/CognitiveClass/Logos/organization_logo/organization_logo.png\" width=\"300\" alt=\"cognitiveclass.ai logo\"  />\n",
    "</center>\n"
   ]
  },
  {
   "cell_type": "markdown",
   "metadata": {},
   "source": [
    "#### Add your code below following the instructions given in the course\n"
   ]
  },
  {
   "cell_type": "markdown",
   "metadata": {},
   "source": [
    "<h1>My Jupyter Notebook on IBM Watson Studio<h1>"
   ]
  },
  {
   "cell_type": "markdown",
   "metadata": {},
   "source": [
    "<b>Vidana Gamage Jayawardena Hashinika Sewwandi </b> <br> Software Engineer"
   ]
  },
  {
   "cell_type": "markdown",
   "metadata": {},
   "source": [
    "<i>I am interested in data science because I am very fascinated by the fact that with the help of data science strategies, computer algorithms which are capable of analyze and learn and self-development can be developed. With the help of the data science knowledge and my programming knowledge one day I like to see myself developing my own artificial intelligence project which will helps the humanity to achieve more goals without expecting a return.</i>"
   ]
  },
  {
   "cell_type": "markdown",
   "metadata": {},
   "source": [
    "<h3>Multification</h3>"
   ]
  },
  {
   "cell_type": "code",
   "execution_count": 17,
   "metadata": {},
   "outputs": [
    {
     "name": "stdout",
     "output_type": "stream",
     "text": [
      "12\n"
     ]
    }
   ],
   "source": [
    "print(4*3)"
   ]
  },
  {
   "cell_type": "markdown",
   "metadata": {},
   "source": [
    "<hr>"
   ]
  },
  {
   "cell_type": "markdown",
   "metadata": {},
   "source": [
    "<ul>\n",
    "    <li> Data Scientist </li>\n",
    "    <li> Project Manager</li>\n",
    "    <li> Software Engineer </li>\n",
    "</ul>\n",
    "\n",
    "\n",
    "<ol> \n",
    "    <li> Google </li>\n",
    "    <li> Face book </li>\n",
    "    <li> IBM </li>\n",
    "</ol>\n",
    "\n",
    "\n",
    "<table style=\"width=30%\">\n",
    "    <tr> \n",
    "        <th>Title</th>\n",
    "        <th>Country</th>\n",
    "        <th>Salary(per year) </th>\n",
    "    </tr>\n",
    "    <tr>\n",
    "        <th>Data Scientist </th>\n",
    "        <th>USA</th>\n",
    "        <th>200000 </th>\n",
    "    </tr>\n",
    "    <tr>\n",
    "        <th>Project Manager</th>\n",
    "        <th>Canada </th>\n",
    "        <th>100000 </th>\n",
    "    </tr>\n",
    "    <tr>\n",
    "        <th>Software Engineer </th>\n",
    "        <th>UK</th>\n",
    "        <th>150000 </th>\n",
    "    </tr>\n",
    "</table>\n",
    "\n",
    "\n",
    "\n",
    "<a> href=\"https://www.google.com\" >Link to Google</a>\n",
    "\n",
    "\n",
    "<img> <src=\"https://i.imgur.com/WWrydEh.png\" width =\"500\" height=500 >\n",
    "\n",
    "\n",
    "<code>Python\n",
    "    str = \"Hello World!\"\n",
    "        print(str)\n",
    "</code>\n",
    "\n",
    "<code>Python\n",
    "  print((5*3)+8)\n",
    "</code>\n",
    "\n",
    "<blockquote>This is good</blockquote>\n",
    "\n",
    "\n",
    "<s>This is sample</s>\n"
   ]
  },
  {
   "cell_type": "code",
   "execution_count": null,
   "metadata": {},
   "outputs": [],
   "source": []
  }
 ],
 "metadata": {
  "kernelspec": {
   "display_name": "Python",
   "language": "python",
   "name": "conda-env-python-py"
  },
  "language_info": {
   "codemirror_mode": {
    "name": "ipython",
    "version": 3
   },
   "file_extension": ".py",
   "mimetype": "text/x-python",
   "name": "python",
   "nbconvert_exporter": "python",
   "pygments_lexer": "ipython3",
   "version": "3.7.12"
  }
 },
 "nbformat": 4,
 "nbformat_minor": 4
}
